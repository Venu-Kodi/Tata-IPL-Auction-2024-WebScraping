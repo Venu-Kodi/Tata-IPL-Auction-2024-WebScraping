{
 "cells": [
  {
   "cell_type": "markdown",
   "id": "501e54f2-0b4c-45c5-8c36-ce6e48d73d12",
   "metadata": {},
   "source": [
    "Tata IPL Auction 2024 stats web scarping using BeautifulSoup by KODI VENU"
   ]
  },
  {
   "cell_type": "code",
   "execution_count": 5,
   "id": "75763478-a21d-4d8b-863e-b65c45dc2b44",
   "metadata": {},
   "outputs": [],
   "source": [
    "import pandas as pd\n",
    "import requests\n",
    "from bs4 import BeautifulSoup"
   ]
  },
  {
   "cell_type": "code",
   "execution_count": 7,
   "id": "2fc3ca0f-7b25-486c-a690-2734e503ec52",
   "metadata": {},
   "outputs": [],
   "source": [
    "url = \"https://www.iplt20.com/auction/2024\""
   ]
  },
  {
   "cell_type": "code",
   "execution_count": 9,
   "id": "12df2e2a-3304-4b7e-a288-771e3d98ea8a",
   "metadata": {},
   "outputs": [],
   "source": [
    "r = requests.get(url)"
   ]
  },
  {
   "cell_type": "code",
   "execution_count": 11,
   "id": "a78fd48f-58db-4e54-bb0a-c1c26f5aef3e",
   "metadata": {},
   "outputs": [
    {
     "name": "stdout",
     "output_type": "stream",
     "text": [
      "<Response [200]>\n"
     ]
    }
   ],
   "source": [
    "print(r)"
   ]
  },
  {
   "cell_type": "code",
   "execution_count": 13,
   "id": "356d7526-01f1-492f-8d16-0b4de0ee697f",
   "metadata": {},
   "outputs": [],
   "source": [
    "soup = BeautifulSoup(r.text,\"lxml\")"
   ]
  },
  {
   "cell_type": "code",
   "execution_count": 17,
   "id": "98c5a85b-4c9c-485d-a8e1-fa6d208560e3",
   "metadata": {},
   "outputs": [],
   "source": [
    "table = soup.find(\"table\",class_=\"ih-td-tab auction-tbl\")"
   ]
  },
  {
   "cell_type": "code",
   "execution_count": 19,
   "id": "dfcb2889-1322-4cdf-a211-8bac996c6baa",
   "metadata": {},
   "outputs": [
    {
     "name": "stdout",
     "output_type": "stream",
     "text": [
      "<table class=\"ih-td-tab auction-tbl\" id=\"t3\" width=\"100%\">\n",
      "<thead>\n",
      "<tr class=\"ih-pt-tbl\" style=\"display:revert\">\n",
      "<th class=\"skip-filter\" style=\"width:25%;text-align: left;\">TEAM</th>\n",
      "<th class=\"skip-filter\" style=\"width:25%;\">FUNDS REMAINING</th>\n",
      "<th class=\"skip-filter\" style=\"width:25%;\">OVERSEAS PLAYERS </th>\n",
      "<th class=\"skip-filter\" style=\"width:25%;\">TOTAL PLAYERS</th>\n",
      "</tr>\n",
      "<thead>\n",
      "</thead></thead><tbody id=\"pointsdata\">\n",
      "<tr>\n",
      "<td class=\"ih-t-color\">\n",
      "<div class=\"ih-pt-ic\">\n",
      "<div class=\"ih-pt-img\" style=\"width: 60px\">\n",
      "<img alt=\"\" src=\"https://documents.iplt20.com/ipl/franchises/1702465555_CSKroundbig.png\"/>\n",
      "</div>\n",
      "<h2 class=\"ih-pt-cont\">Chennai Super Kings</h2>\n",
      "</div>\n",
      "</td>\n",
      "<td>₹1,00,00,000</td>\n",
      "<td>8</td>\n",
      "<td>25</td>\n",
      "</tr>\n",
      "<tr>\n",
      "<td class=\"ih-t-color\">\n",
      "<div class=\"ih-pt-ic\">\n",
      "<div class=\"ih-pt-img\" style=\"width: 60px\">\n",
      "<img alt=\"\" src=\"https://documents.iplt20.com/ipl/franchises/1702465727_DCroundbig.png\"/>\n",
      "</div>\n",
      "<h2 class=\"ih-pt-cont\">Delhi Capitals</h2>\n",
      "</div>\n",
      "</td>\n",
      "<td>₹9,90,00,000</td>\n",
      "<td>8</td>\n",
      "<td>25</td>\n",
      "</tr>\n",
      "<tr>\n",
      "<td class=\"ih-t-color\">\n",
      "<div class=\"ih-pt-ic\">\n",
      "<div class=\"ih-pt-img\" style=\"width: 60px\">\n",
      "<img alt=\"\" src=\"https://documents.iplt20.com/ipl/franchises/1702465836_GTroundbig.png\"/>\n",
      "</div>\n",
      "<h2 class=\"ih-pt-cont\">Gujarat Titans</h2>\n",
      "</div>\n",
      "</td>\n",
      "<td>₹7,85,00,000</td>\n",
      "<td>8</td>\n",
      "<td>25</td>\n",
      "</tr>\n",
      "<tr>\n",
      "<td class=\"ih-t-color\">\n",
      "<div class=\"ih-pt-ic\">\n",
      "<div class=\"ih-pt-img\" style=\"width: 60px\">\n",
      "<img alt=\"\" src=\"https://documents.iplt20.com/ipl/franchises/1702465948_KKRroundbig.png\"/>\n",
      "</div>\n",
      "<h2 class=\"ih-pt-cont\">Kolkata Knight Riders</h2>\n",
      "</div>\n",
      "</td>\n",
      "<td>₹1,35,00,000</td>\n",
      "<td>8</td>\n",
      "<td>23</td>\n",
      "</tr>\n",
      "<tr>\n",
      "<td class=\"ih-t-color\">\n",
      "<div class=\"ih-pt-ic\">\n",
      "<div class=\"ih-pt-img\" style=\"width: 60px\">\n",
      "<img alt=\"\" src=\"https://documents.iplt20.com/ipl/franchises/1702466030_LSGroundbig.png\"/>\n",
      "</div>\n",
      "<h2 class=\"ih-pt-cont\">Lucknow Super Giants</h2>\n",
      "</div>\n",
      "</td>\n",
      "<td>₹95,00,000</td>\n",
      "<td>8</td>\n",
      "<td>25</td>\n",
      "</tr>\n",
      "<tr>\n",
      "<td class=\"ih-t-color\">\n",
      "<div class=\"ih-pt-ic\">\n",
      "<div class=\"ih-pt-img\" style=\"width: 60px\">\n",
      "<img alt=\"\" src=\"https://documents.iplt20.com/ipl/franchises/1702466090_MIroundbig.png\"/>\n",
      "</div>\n",
      "<h2 class=\"ih-pt-cont\">Mumbai Indians</h2>\n",
      "</div>\n",
      "</td>\n",
      "<td>₹1,05,00,000</td>\n",
      "<td>8</td>\n",
      "<td>25</td>\n",
      "</tr>\n",
      "<tr>\n",
      "<td class=\"ih-t-color\">\n",
      "<div class=\"ih-pt-ic\">\n",
      "<div class=\"ih-pt-img\" style=\"width: 60px\">\n",
      "<img alt=\"\" src=\"https://documents.iplt20.com/ipl/franchises/1702466143_PBKSroundbig.png\"/>\n",
      "</div>\n",
      "<h2 class=\"ih-pt-cont\">Punjab Kings</h2>\n",
      "</div>\n",
      "</td>\n",
      "<td>₹4,15,00,000</td>\n",
      "<td>8</td>\n",
      "<td>25</td>\n",
      "</tr>\n",
      "<tr>\n",
      "<td class=\"ih-t-color\">\n",
      "<div class=\"ih-pt-ic\">\n",
      "<div class=\"ih-pt-img\" style=\"width: 60px\">\n",
      "<img alt=\"\" src=\"https://documents.iplt20.com/ipl/franchises/1702466295_RRroundbig.png\"/>\n",
      "</div>\n",
      "<h2 class=\"ih-pt-cont\">Rajasthan Royals</h2>\n",
      "</div>\n",
      "</td>\n",
      "<td>₹20,00,000</td>\n",
      "<td>8</td>\n",
      "<td>22</td>\n",
      "</tr>\n",
      "<tr>\n",
      "<td class=\"ih-t-color\">\n",
      "<div class=\"ih-pt-ic\">\n",
      "<div class=\"ih-pt-img\" style=\"width: 60px\">\n",
      "<img alt=\"\" src=\"https://documents.iplt20.com/ipl/franchises/1702466217_RCBroundbig.png\"/>\n",
      "</div>\n",
      "<h2 class=\"ih-pt-cont\">Royal Challengers Bengaluru</h2>\n",
      "</div>\n",
      "</td>\n",
      "<td>₹2,85,00,000</td>\n",
      "<td>8</td>\n",
      "<td>25</td>\n",
      "</tr>\n",
      "<tr>\n",
      "<td class=\"ih-t-color\">\n",
      "<div class=\"ih-pt-ic\">\n",
      "<div class=\"ih-pt-img\" style=\"width: 60px\">\n",
      "<img alt=\"\" src=\"https://documents.iplt20.com/ipl/franchises/1702466366_SRHroundbig.png\"/>\n",
      "</div>\n",
      "<h2 class=\"ih-pt-cont\">Sunrisers Hyderabad</h2>\n",
      "</div>\n",
      "</td>\n",
      "<td>₹3,20,00,000</td>\n",
      "<td>8</td>\n",
      "<td>25</td>\n",
      "</tr>\n",
      "</tbody>\n",
      "</table>\n"
     ]
    }
   ],
   "source": [
    "print(table)"
   ]
  },
  {
   "cell_type": "code",
   "execution_count": 21,
   "id": "720bf3c0-9031-4c06-a6fc-fabe62241b2f",
   "metadata": {},
   "outputs": [
    {
     "name": "stdout",
     "output_type": "stream",
     "text": [
      "[<th class=\"skip-filter\" style=\"width:25%;text-align: left;\">TEAM</th>, <th class=\"skip-filter\" style=\"width:25%;\">FUNDS REMAINING</th>, <th class=\"skip-filter\" style=\"width:25%;\">OVERSEAS PLAYERS </th>, <th class=\"skip-filter\" style=\"width:25%;\">TOTAL PLAYERS</th>]\n"
     ]
    }
   ],
   "source": [
    "header = table.find_all(\"th\")\n",
    "print(header)"
   ]
  },
  {
   "cell_type": "code",
   "execution_count": 25,
   "id": "f32a99e7-e400-48cb-9e43-ba925b244db5",
   "metadata": {},
   "outputs": [
    {
     "name": "stdout",
     "output_type": "stream",
     "text": [
      "['TEAM', 'FUNDS REMAINING', 'OVERSEAS PLAYERS ', 'TOTAL PLAYERS']\n"
     ]
    }
   ],
   "source": [
    "titles = []\n",
    "for i in header:\n",
    "    title = i.text\n",
    "    titles.append(title)\n",
    "    \n",
    "print(titles)"
   ]
  },
  {
   "cell_type": "code",
   "execution_count": 29,
   "id": "49486273-c5c5-4abc-9b67-db8326e6c50f",
   "metadata": {},
   "outputs": [
    {
     "name": "stdout",
     "output_type": "stream",
     "text": [
      "Empty DataFrame\n",
      "Columns: [TEAM, FUNDS REMAINING, OVERSEAS PLAYERS , TOTAL PLAYERS]\n",
      "Index: []\n"
     ]
    }
   ],
   "source": [
    "df = pd.DataFrame(columns = titles)\n",
    "print(df)"
   ]
  },
  {
   "cell_type": "code",
   "execution_count": 27,
   "id": "b5121205-ce84-4c30-9df3-d59be74b0dd7",
   "metadata": {},
   "outputs": [
    {
     "name": "stdout",
     "output_type": "stream",
     "text": [
      "[<tr class=\"ih-pt-tbl\" style=\"display:revert\">\n",
      "<th class=\"skip-filter\" style=\"width:25%;text-align: left;\">TEAM</th>\n",
      "<th class=\"skip-filter\" style=\"width:25%;\">FUNDS REMAINING</th>\n",
      "<th class=\"skip-filter\" style=\"width:25%;\">OVERSEAS PLAYERS </th>\n",
      "<th class=\"skip-filter\" style=\"width:25%;\">TOTAL PLAYERS</th>\n",
      "</tr>, <tr>\n",
      "<td class=\"ih-t-color\">\n",
      "<div class=\"ih-pt-ic\">\n",
      "<div class=\"ih-pt-img\" style=\"width: 60px\">\n",
      "<img alt=\"\" src=\"https://documents.iplt20.com/ipl/franchises/1702465555_CSKroundbig.png\"/>\n",
      "</div>\n",
      "<h2 class=\"ih-pt-cont\">Chennai Super Kings</h2>\n",
      "</div>\n",
      "</td>\n",
      "<td>₹1,00,00,000</td>\n",
      "<td>8</td>\n",
      "<td>25</td>\n",
      "</tr>, <tr>\n",
      "<td class=\"ih-t-color\">\n",
      "<div class=\"ih-pt-ic\">\n",
      "<div class=\"ih-pt-img\" style=\"width: 60px\">\n",
      "<img alt=\"\" src=\"https://documents.iplt20.com/ipl/franchises/1702465727_DCroundbig.png\"/>\n",
      "</div>\n",
      "<h2 class=\"ih-pt-cont\">Delhi Capitals</h2>\n",
      "</div>\n",
      "</td>\n",
      "<td>₹9,90,00,000</td>\n",
      "<td>8</td>\n",
      "<td>25</td>\n",
      "</tr>, <tr>\n",
      "<td class=\"ih-t-color\">\n",
      "<div class=\"ih-pt-ic\">\n",
      "<div class=\"ih-pt-img\" style=\"width: 60px\">\n",
      "<img alt=\"\" src=\"https://documents.iplt20.com/ipl/franchises/1702465836_GTroundbig.png\"/>\n",
      "</div>\n",
      "<h2 class=\"ih-pt-cont\">Gujarat Titans</h2>\n",
      "</div>\n",
      "</td>\n",
      "<td>₹7,85,00,000</td>\n",
      "<td>8</td>\n",
      "<td>25</td>\n",
      "</tr>, <tr>\n",
      "<td class=\"ih-t-color\">\n",
      "<div class=\"ih-pt-ic\">\n",
      "<div class=\"ih-pt-img\" style=\"width: 60px\">\n",
      "<img alt=\"\" src=\"https://documents.iplt20.com/ipl/franchises/1702465948_KKRroundbig.png\"/>\n",
      "</div>\n",
      "<h2 class=\"ih-pt-cont\">Kolkata Knight Riders</h2>\n",
      "</div>\n",
      "</td>\n",
      "<td>₹1,35,00,000</td>\n",
      "<td>8</td>\n",
      "<td>23</td>\n",
      "</tr>, <tr>\n",
      "<td class=\"ih-t-color\">\n",
      "<div class=\"ih-pt-ic\">\n",
      "<div class=\"ih-pt-img\" style=\"width: 60px\">\n",
      "<img alt=\"\" src=\"https://documents.iplt20.com/ipl/franchises/1702466030_LSGroundbig.png\"/>\n",
      "</div>\n",
      "<h2 class=\"ih-pt-cont\">Lucknow Super Giants</h2>\n",
      "</div>\n",
      "</td>\n",
      "<td>₹95,00,000</td>\n",
      "<td>8</td>\n",
      "<td>25</td>\n",
      "</tr>, <tr>\n",
      "<td class=\"ih-t-color\">\n",
      "<div class=\"ih-pt-ic\">\n",
      "<div class=\"ih-pt-img\" style=\"width: 60px\">\n",
      "<img alt=\"\" src=\"https://documents.iplt20.com/ipl/franchises/1702466090_MIroundbig.png\"/>\n",
      "</div>\n",
      "<h2 class=\"ih-pt-cont\">Mumbai Indians</h2>\n",
      "</div>\n",
      "</td>\n",
      "<td>₹1,05,00,000</td>\n",
      "<td>8</td>\n",
      "<td>25</td>\n",
      "</tr>, <tr>\n",
      "<td class=\"ih-t-color\">\n",
      "<div class=\"ih-pt-ic\">\n",
      "<div class=\"ih-pt-img\" style=\"width: 60px\">\n",
      "<img alt=\"\" src=\"https://documents.iplt20.com/ipl/franchises/1702466143_PBKSroundbig.png\"/>\n",
      "</div>\n",
      "<h2 class=\"ih-pt-cont\">Punjab Kings</h2>\n",
      "</div>\n",
      "</td>\n",
      "<td>₹4,15,00,000</td>\n",
      "<td>8</td>\n",
      "<td>25</td>\n",
      "</tr>, <tr>\n",
      "<td class=\"ih-t-color\">\n",
      "<div class=\"ih-pt-ic\">\n",
      "<div class=\"ih-pt-img\" style=\"width: 60px\">\n",
      "<img alt=\"\" src=\"https://documents.iplt20.com/ipl/franchises/1702466295_RRroundbig.png\"/>\n",
      "</div>\n",
      "<h2 class=\"ih-pt-cont\">Rajasthan Royals</h2>\n",
      "</div>\n",
      "</td>\n",
      "<td>₹20,00,000</td>\n",
      "<td>8</td>\n",
      "<td>22</td>\n",
      "</tr>, <tr>\n",
      "<td class=\"ih-t-color\">\n",
      "<div class=\"ih-pt-ic\">\n",
      "<div class=\"ih-pt-img\" style=\"width: 60px\">\n",
      "<img alt=\"\" src=\"https://documents.iplt20.com/ipl/franchises/1702466217_RCBroundbig.png\"/>\n",
      "</div>\n",
      "<h2 class=\"ih-pt-cont\">Royal Challengers Bengaluru</h2>\n",
      "</div>\n",
      "</td>\n",
      "<td>₹2,85,00,000</td>\n",
      "<td>8</td>\n",
      "<td>25</td>\n",
      "</tr>, <tr>\n",
      "<td class=\"ih-t-color\">\n",
      "<div class=\"ih-pt-ic\">\n",
      "<div class=\"ih-pt-img\" style=\"width: 60px\">\n",
      "<img alt=\"\" src=\"https://documents.iplt20.com/ipl/franchises/1702466366_SRHroundbig.png\"/>\n",
      "</div>\n",
      "<h2 class=\"ih-pt-cont\">Sunrisers Hyderabad</h2>\n",
      "</div>\n",
      "</td>\n",
      "<td>₹3,20,00,000</td>\n",
      "<td>8</td>\n",
      "<td>25</td>\n",
      "</tr>]\n"
     ]
    }
   ],
   "source": [
    "rows = table.find_all(\"tr\")\n",
    "print(rows)"
   ]
  },
  {
   "cell_type": "code",
   "execution_count": 33,
   "id": "f00382af-2655-4919-aaa5-31c7b2ed7a20",
   "metadata": {},
   "outputs": [
    {
     "name": "stdout",
     "output_type": "stream",
     "text": [
      "['\\n\\n\\n\\n\\nChennai Super Kings\\n\\n', '₹1,00,00,000', '8', '25']\n",
      "['\\n\\n\\n\\n\\nDelhi Capitals\\n\\n', '₹9,90,00,000', '8', '25']\n",
      "['\\n\\n\\n\\n\\nGujarat Titans\\n\\n', '₹7,85,00,000', '8', '25']\n",
      "['\\n\\n\\n\\n\\nKolkata Knight Riders\\n\\n', '₹1,35,00,000', '8', '23']\n",
      "['\\n\\n\\n\\n\\nLucknow Super Giants\\n\\n', '₹95,00,000', '8', '25']\n",
      "['\\n\\n\\n\\n\\nMumbai Indians\\n\\n', '₹1,05,00,000', '8', '25']\n",
      "['\\n\\n\\n\\n\\nPunjab Kings\\n\\n', '₹4,15,00,000', '8', '25']\n",
      "['\\n\\n\\n\\n\\nRajasthan Royals\\n\\n', '₹20,00,000', '8', '22']\n",
      "['\\n\\n\\n\\n\\nRoyal Challengers Bengaluru\\n\\n', '₹2,85,00,000', '8', '25']\n",
      "['\\n\\n\\n\\n\\nSunrisers Hyderabad\\n\\n', '₹3,20,00,000', '8', '25']\n",
      "                                        TEAM FUNDS REMAINING  \\\n",
      "0          \\n\\n\\n\\n\\nChennai Super Kings\\n\\n    ₹1,00,00,000   \n",
      "1               \\n\\n\\n\\n\\nDelhi Capitals\\n\\n    ₹9,90,00,000   \n",
      "2               \\n\\n\\n\\n\\nGujarat Titans\\n\\n    ₹7,85,00,000   \n",
      "3        \\n\\n\\n\\n\\nKolkata Knight Riders\\n\\n    ₹1,35,00,000   \n",
      "4         \\n\\n\\n\\n\\nLucknow Super Giants\\n\\n      ₹95,00,000   \n",
      "5               \\n\\n\\n\\n\\nMumbai Indians\\n\\n    ₹1,05,00,000   \n",
      "6                 \\n\\n\\n\\n\\nPunjab Kings\\n\\n    ₹4,15,00,000   \n",
      "7             \\n\\n\\n\\n\\nRajasthan Royals\\n\\n      ₹20,00,000   \n",
      "8  \\n\\n\\n\\n\\nRoyal Challengers Bengaluru\\n\\n    ₹2,85,00,000   \n",
      "9          \\n\\n\\n\\n\\nSunrisers Hyderabad\\n\\n    ₹3,20,00,000   \n",
      "\n",
      "  OVERSEAS PLAYERS  TOTAL PLAYERS  \n",
      "0                 8            25  \n",
      "1                 8            25  \n",
      "2                 8            25  \n",
      "3                 8            23  \n",
      "4                 8            25  \n",
      "5                 8            25  \n",
      "6                 8            25  \n",
      "7                 8            22  \n",
      "8                 8            25  \n",
      "9                 8            25  \n"
     ]
    }
   ],
   "source": [
    "rows = table.find_all(\"tr\")\n",
    "for i in rows[1:]:\n",
    "    data = i.find_all(\"td\")\n",
    "    row = [tr.text for tr in data]\n",
    "    print(row)\n",
    "    l = len(df)\n",
    "    df.loc[l] = row\n",
    "print(df)"
   ]
  },
  {
   "cell_type": "code",
   "execution_count": 35,
   "id": "1a588ab6-fcf3-4be0-9285-334ae599434d",
   "metadata": {},
   "outputs": [
    {
     "name": "stdout",
     "output_type": "stream",
     "text": [
      "                                         TEAM FUNDS REMAINING  \\\n",
      "0           \\n\\n\\n\\n\\nChennai Super Kings\\n\\n    ₹1,00,00,000   \n",
      "1                \\n\\n\\n\\n\\nDelhi Capitals\\n\\n    ₹9,90,00,000   \n",
      "2                \\n\\n\\n\\n\\nGujarat Titans\\n\\n    ₹7,85,00,000   \n",
      "3         \\n\\n\\n\\n\\nKolkata Knight Riders\\n\\n    ₹1,35,00,000   \n",
      "4          \\n\\n\\n\\n\\nLucknow Super Giants\\n\\n      ₹95,00,000   \n",
      "5                \\n\\n\\n\\n\\nMumbai Indians\\n\\n    ₹1,05,00,000   \n",
      "6                  \\n\\n\\n\\n\\nPunjab Kings\\n\\n    ₹4,15,00,000   \n",
      "7              \\n\\n\\n\\n\\nRajasthan Royals\\n\\n      ₹20,00,000   \n",
      "8   \\n\\n\\n\\n\\nRoyal Challengers Bengaluru\\n\\n    ₹2,85,00,000   \n",
      "9           \\n\\n\\n\\n\\nSunrisers Hyderabad\\n\\n    ₹3,20,00,000   \n",
      "10                        Chennai Super Kings    ₹1,00,00,000   \n",
      "11                             Delhi Capitals    ₹9,90,00,000   \n",
      "12                             Gujarat Titans    ₹7,85,00,000   \n",
      "13                      Kolkata Knight Riders    ₹1,35,00,000   \n",
      "14                       Lucknow Super Giants      ₹95,00,000   \n",
      "15                             Mumbai Indians    ₹1,05,00,000   \n",
      "16                               Punjab Kings    ₹4,15,00,000   \n",
      "17                           Rajasthan Royals      ₹20,00,000   \n",
      "18                Royal Challengers Bengaluru    ₹2,85,00,000   \n",
      "19                        Sunrisers Hyderabad    ₹3,20,00,000   \n",
      "\n",
      "   OVERSEAS PLAYERS  TOTAL PLAYERS  \n",
      "0                  8            25  \n",
      "1                  8            25  \n",
      "2                  8            25  \n",
      "3                  8            23  \n",
      "4                  8            25  \n",
      "5                  8            25  \n",
      "6                  8            25  \n",
      "7                  8            22  \n",
      "8                  8            25  \n",
      "9                  8            25  \n",
      "10                 8            25  \n",
      "11                 8            25  \n",
      "12                 8            25  \n",
      "13                 8            23  \n",
      "14                 8            25  \n",
      "15                 8            25  \n",
      "16                 8            25  \n",
      "17                 8            22  \n",
      "18                 8            25  \n",
      "19                 8            25  \n"
     ]
    }
   ],
   "source": [
    "rows = table.find_all(\"tr\")\n",
    "for i in rows[1:]:\n",
    "    first_td = i.find_all(\"td\")[0].find(\"div\",class_ =\"ih-pt-ic\").text.strip()\n",
    "    data = i.find_all(\"td\")[1:]\n",
    "    row = [tr.text for tr in data]\n",
    "    row.insert(0,first_td)\n",
    "    l = len(df)\n",
    "    df.loc[l] = row\n",
    "print(df)"
   ]
  },
  {
   "cell_type": "code",
   "execution_count": 40,
   "id": "87c8a9ea-f045-4883-b7e0-e481e16958fc",
   "metadata": {},
   "outputs": [],
   "source": [
    "df.to_csv(\"Tata_IPL_Auction_stats_2024.csv\")"
   ]
  },
  {
   "cell_type": "code",
   "execution_count": null,
   "id": "d8ed8121-a770-447a-8ba1-5de69298e0e8",
   "metadata": {},
   "outputs": [],
   "source": []
  },
  {
   "cell_type": "code",
   "execution_count": null,
   "id": "6a7966df-39e0-4aef-917c-f8570f9716a5",
   "metadata": {},
   "outputs": [],
   "source": []
  },
  {
   "cell_type": "code",
   "execution_count": null,
   "id": "92faf81c-7c7d-4d9d-abbe-e818d1bedb6c",
   "metadata": {},
   "outputs": [],
   "source": []
  },
  {
   "cell_type": "markdown",
   "id": "82fb96e3-ce00-44ad-ac96-7380662924b5",
   "metadata": {},
   "source": []
  }
 ],
 "metadata": {
  "kernelspec": {
   "display_name": "Python 3 (ipykernel)",
   "language": "python",
   "name": "python3"
  },
  "language_info": {
   "codemirror_mode": {
    "name": "ipython",
    "version": 3
   },
   "file_extension": ".py",
   "mimetype": "text/x-python",
   "name": "python",
   "nbconvert_exporter": "python",
   "pygments_lexer": "ipython3",
   "version": "3.12.4"
  }
 },
 "nbformat": 4,
 "nbformat_minor": 5
}
